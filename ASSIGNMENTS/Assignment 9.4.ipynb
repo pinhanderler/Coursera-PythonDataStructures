{
 "cells": [
  {
   "cell_type": "code",
   "execution_count": 1,
   "metadata": {
    "collapsed": false
   },
   "outputs": [
    {
     "name": "stdout",
     "output_type": "stream",
     "text": [
      "Molim unesite ime fajlambox-short.txt\n",
      "cwen@iupui.edu 5\n"
     ]
    }
   ],
   "source": [
    "ImeFajla = raw_input(\"Molim unesite ime fajla\")\n",
    "tekst = open(ImeFajla)\n",
    "Rjecnik = {}\n",
    "\n",
    "for lines in tekst:\n",
    "    if lines.startswith(\"From \"):\n",
    "        words = lines.split()\n",
    "        email = words[1]\n",
    "        Rjecnik[email] = Rjecnik.get(email, 0)+1\n",
    "                   \n",
    "BigRij = None\n",
    "BigBroj = None\n",
    "\n",
    "for k, v in Rjecnik.items():\n",
    "    if BigBroj is None or BigBroj < v:\n",
    "        BigBroj = v\n",
    "        BigRij = k\n",
    "print BigRij, BigBroj"
   ]
  }
 ],
 "metadata": {
  "kernelspec": {
   "display_name": "Python 2",
   "language": "python",
   "name": "python2"
  },
  "language_info": {
   "codemirror_mode": {
    "name": "ipython",
    "version": 2
   },
   "file_extension": ".py",
   "mimetype": "text/x-python",
   "name": "python",
   "nbconvert_exporter": "python",
   "pygments_lexer": "ipython2",
   "version": "2.7.11"
  }
 },
 "nbformat": 4,
 "nbformat_minor": 0
}
