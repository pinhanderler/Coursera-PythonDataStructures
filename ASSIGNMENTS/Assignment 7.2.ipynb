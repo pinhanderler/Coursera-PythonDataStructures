{
 "cells": [
  {
   "cell_type": "code",
   "execution_count": 2,
   "metadata": {
    "collapsed": false
   },
   "outputs": [
    {
     "name": "stdout",
     "output_type": "stream",
     "text": [
      "Enter file name: mbox-short.txt\n",
      "Average spam confidence: 0.750718518519\n"
     ]
    }
   ],
   "source": [
    "# Use the file name mbox-short.txt as the file name\n",
    "fname = raw_input(\"Enter file name: \")\n",
    "fh = open(fname)\n",
    "rez = []\n",
    "for line in fh.readlines():\n",
    "    if line.startswith(\"X-DSPAM-Confidence:\"):\n",
    "        line.replace(\" \", \"\")\n",
    "        ind = line.find(\":\")\n",
    "        rez.append(float(line[ind+1:]))\n",
    "print \"Average spam confidence:\", sum(rez)/len(rez)"
   ]
  }
 ],
 "metadata": {
  "kernelspec": {
   "display_name": "Python 2",
   "language": "python",
   "name": "python2"
  },
  "language_info": {
   "codemirror_mode": {
    "name": "ipython",
    "version": 2
   },
   "file_extension": ".py",
   "mimetype": "text/x-python",
   "name": "python",
   "nbconvert_exporter": "python",
   "pygments_lexer": "ipython2",
   "version": "2.7.11"
  }
 },
 "nbformat": 4,
 "nbformat_minor": 0
}
