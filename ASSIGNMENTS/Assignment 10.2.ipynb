{
 "cells": [
  {
   "cell_type": "code",
   "execution_count": 5,
   "metadata": {
    "collapsed": false
   },
   "outputs": [
    {
     "name": "stdout",
     "output_type": "stream",
     "text": [
      "Enter file:mbox-short.txt\n",
      "04 3\n",
      "06 1\n",
      "07 1\n",
      "09 2\n",
      "10 3\n",
      "11 6\n",
      "14 1\n",
      "15 2\n",
      "16 4\n",
      "17 2\n",
      "18 1\n",
      "19 1\n"
     ]
    }
   ],
   "source": [
    "imeFajla = raw_input(\"Enter file:\")\n",
    "otvFajl = open(imeFajla)\n",
    "rjec = {}\n",
    "for i in otvFajl:\n",
    "    if i.startswith(\"From\") and len(i.split()) > 2:\n",
    "        line = i.split()\n",
    "        if not rjec.has_key(line[5][:2]):\n",
    "            rjec[line[5][:2]] = 1\n",
    "        else:\n",
    "            rjec[line[5][:2]] += 1\n",
    "                \n",
    "key = sorted(rjec)\n",
    "for i in key:\n",
    "    print i, rjec[i]"
   ]
  }
 ],
 "metadata": {
  "kernelspec": {
   "display_name": "Python 2",
   "language": "python",
   "name": "python2"
  },
  "language_info": {
   "codemirror_mode": {
    "name": "ipython",
    "version": 2
   },
   "file_extension": ".py",
   "mimetype": "text/x-python",
   "name": "python",
   "nbconvert_exporter": "python",
   "pygments_lexer": "ipython2",
   "version": "2.7.11"
  }
 },
 "nbformat": 4,
 "nbformat_minor": 0
}
